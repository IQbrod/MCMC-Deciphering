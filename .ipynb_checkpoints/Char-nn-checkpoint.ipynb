{
 "cells": [
  {
   "cell_type": "code",
   "execution_count": 1,
   "metadata": {
    "collapsed": true
   },
   "outputs": [],
   "source": [
    "# As usual, a bit of setup\n",
    "\n",
    "import time, os, json\n",
    "import numpy as np\n",
    "import matplotlib.pyplot as plt\n",
    "\n",
    "from metropolis_hastings import *\n",
    "from deshuffling_utils import *\n",
    "import sys  \n",
    "\n",
    "from nn.rnn_layers import *\n",
    "from nn.char_nn import *\n",
    "from nn.optim import *\n",
    "from nn.sequence_classifier import *\n",
    "from nn.gradient_check import *\n",
    "\n",
    "%matplotlib inline\n",
    "plt.rcParams['figure.figsize'] = (10.0, 8.0) # set default size of plots\n",
    "plt.rcParams['image.interpolation'] = 'nearest'\n",
    "plt.rcParams['image.cmap'] = 'gray'\n",
    "\n",
    "# for auto-reloading external modules\n",
    "# see http://stackoverflow.com/questions/1907993/autoreload-of-modules-in-ipython\n",
    "%load_ext autoreload\n",
    "%autoreload 2\n",
    "\n",
    "def rel_error(x, y):\n",
    "  \"\"\" returns relative error \"\"\"\n",
    "  return np.max(np.abs(x - y) / (np.maximum(1e-8, np.abs(x) + np.abs(y))))\n",
    "\n"
   ]
  },
  {
   "cell_type": "code",
   "execution_count": 12,
   "metadata": {
    "collapsed": true
   },
   "outputs": [],
   "source": [
    "def train_model(X_train, X_test, char_to_ix, vocab_size, reg, iters=1000, print_every=50, batch_size=50):\n",
    "    \n",
    "    #train on the network\n",
    "    hidden_dims = 100\n",
    "    N_train = X_train.shape[0]\n",
    "    N_test = X_test.shape[0]\n",
    "    model = CharNN(char_to_ix, hidden_dims)\n",
    "\n",
    "    i = 0\n",
    "\n",
    "    it = iters\n",
    "\n",
    "    config = {}\n",
    "\n",
    "    loss_trains = []\n",
    "    loss_tests = []\n",
    "\n",
    "    while i < it:\n",
    "        batch_indices = np.random.choice(N_train, batch_size)\n",
    "        batch_features = X_train[batch_indices, :]\n",
    "\n",
    "        loss, grads, _ = model.loss(batch_features)\n",
    "\n",
    "        for name, value in grads.iteritems():\n",
    "            if name not in config:\n",
    "                config[name] = {'learning_rate':1e-3}\n",
    "\n",
    "            model.params[name], config[name] = adam(model.params[name], value, config[name])\n",
    "\n",
    "        if i%print_every == 0:\n",
    "            indices = np.random.choice(N_test, batch_size)\n",
    "            loss_test, _, _ = model.loss(X_test[indices,:])\n",
    "            \n",
    "            print \"iter %d, loss_train %f, lost_test %f\"%(i, loss, loss_test)\n",
    "            loss_trains.append(loss)\n",
    "            loss_tests.append(loss_test)\n",
    "\n",
    "        i += 1\n",
    "\n",
    "    plt.plot(loss_trains)\n",
    "    plt.plot(loss_tests)\n",
    "\n",
    "    plt.show()\n",
    "    \n",
    "    return model\n"
   ]
  },
  {
   "cell_type": "code",
   "execution_count": 13,
   "metadata": {
    "collapsed": false
   },
   "outputs": [
    {
     "name": "stdout",
     "output_type": "stream",
     "text": [
      "data has 499 characters, 45 unique.\n"
     ]
    },
    {
     "ename": "ValueError",
     "evalue": "too many values to unpack",
     "output_type": "error",
     "traceback": [
      "\u001b[0;31m---------------------------------------------------------------------------\u001b[0m",
      "\u001b[0;31mValueError\u001b[0m                                Traceback (most recent call last)",
      "\u001b[0;32m<ipython-input-13-ccb07b802c4d>\u001b[0m in \u001b[0;36m<module>\u001b[0;34m()\u001b[0m\n\u001b[1;32m     35\u001b[0m \u001b[0mX_train\u001b[0m\u001b[0;34m,\u001b[0m \u001b[0mX_test\u001b[0m\u001b[0;34m,\u001b[0m \u001b[0mchar_to_ix\u001b[0m\u001b[0;34m,\u001b[0m \u001b[0mix_to_char\u001b[0m\u001b[0;34m,\u001b[0m \u001b[0mvocab_size\u001b[0m \u001b[0;34m=\u001b[0m \u001b[0mgenerate_data\u001b[0m\u001b[0;34m(\u001b[0m\u001b[0mdata\u001b[0m\u001b[0;34m)\u001b[0m\u001b[0;34m\u001b[0m\u001b[0m\n\u001b[1;32m     36\u001b[0m \u001b[0;34m\u001b[0m\u001b[0m\n\u001b[0;32m---> 37\u001b[0;31m \u001b[0mmodel\u001b[0m \u001b[0;34m=\u001b[0m \u001b[0mtrain_model\u001b[0m\u001b[0;34m(\u001b[0m\u001b[0mX_train\u001b[0m\u001b[0;34m,\u001b[0m \u001b[0mX_test\u001b[0m\u001b[0;34m,\u001b[0m \u001b[0mchar_to_ix\u001b[0m\u001b[0;34m,\u001b[0m \u001b[0mvocab_size\u001b[0m\u001b[0;34m,\u001b[0m \u001b[0;36m0.0\u001b[0m\u001b[0;34m,\u001b[0m \u001b[0miters\u001b[0m\u001b[0;34m=\u001b[0m\u001b[0;36m5\u001b[0m\u001b[0;34m,\u001b[0m \u001b[0mprint_every\u001b[0m\u001b[0;34m=\u001b[0m\u001b[0;36m5\u001b[0m\u001b[0;34m,\u001b[0m \u001b[0mbatch_size\u001b[0m\u001b[0;34m=\u001b[0m\u001b[0;36m50\u001b[0m\u001b[0;34m)\u001b[0m\u001b[0;34m\u001b[0m\u001b[0m\n\u001b[0m",
      "\u001b[0;32m<ipython-input-12-7d9ca83ca5c7>\u001b[0m in \u001b[0;36mtrain_model\u001b[0;34m(X_train, X_test, char_to_ix, vocab_size, reg, iters, print_every, batch_size)\u001b[0m\n\u001b[1;32m     30\u001b[0m         \u001b[0;32mif\u001b[0m \u001b[0mi\u001b[0m\u001b[0;34m%\u001b[0m\u001b[0mprint_every\u001b[0m \u001b[0;34m==\u001b[0m \u001b[0;36m0\u001b[0m\u001b[0;34m:\u001b[0m\u001b[0;34m\u001b[0m\u001b[0m\n\u001b[1;32m     31\u001b[0m             \u001b[0mindices\u001b[0m \u001b[0;34m=\u001b[0m \u001b[0mnp\u001b[0m\u001b[0;34m.\u001b[0m\u001b[0mrandom\u001b[0m\u001b[0;34m.\u001b[0m\u001b[0mchoice\u001b[0m\u001b[0;34m(\u001b[0m\u001b[0mN_test\u001b[0m\u001b[0;34m,\u001b[0m \u001b[0mbatch_size\u001b[0m\u001b[0;34m)\u001b[0m\u001b[0;34m\u001b[0m\u001b[0m\n\u001b[0;32m---> 32\u001b[0;31m             \u001b[0mloss_test\u001b[0m\u001b[0;34m,\u001b[0m \u001b[0m_\u001b[0m \u001b[0;34m=\u001b[0m \u001b[0mmodel\u001b[0m\u001b[0;34m.\u001b[0m\u001b[0mloss\u001b[0m\u001b[0;34m(\u001b[0m\u001b[0mX_test\u001b[0m\u001b[0;34m[\u001b[0m\u001b[0mindices\u001b[0m\u001b[0;34m,\u001b[0m\u001b[0;34m:\u001b[0m\u001b[0;34m]\u001b[0m\u001b[0;34m)\u001b[0m\u001b[0;34m\u001b[0m\u001b[0m\n\u001b[0m\u001b[1;32m     33\u001b[0m \u001b[0;34m\u001b[0m\u001b[0m\n\u001b[1;32m     34\u001b[0m             \u001b[0;32mprint\u001b[0m \u001b[0;34m\"iter %d, loss_train %f, lost_test %f\"\u001b[0m\u001b[0;34m%\u001b[0m\u001b[0;34m(\u001b[0m\u001b[0mi\u001b[0m\u001b[0;34m,\u001b[0m \u001b[0mloss\u001b[0m\u001b[0;34m,\u001b[0m \u001b[0mloss_test\u001b[0m\u001b[0;34m)\u001b[0m\u001b[0;34m\u001b[0m\u001b[0m\n",
      "\u001b[0;31mValueError\u001b[0m: too many values to unpack"
     ]
    }
   ],
   "source": [
    "def generate_data(data, seq_len=50):\n",
    "    \n",
    "    chars = list(set(data))\n",
    "    data_size, vocab_size = len(data), len(chars)\n",
    "    print 'data has %d characters, %d unique.' % (data_size, vocab_size)\n",
    "    char_to_ix = { ch:i for i,ch in enumerate(chars) }\n",
    "    ix_to_char = { i:ch for i,ch in enumerate(chars) }\n",
    "\n",
    "    d1 = list(data)\n",
    "    \n",
    "    l1 = len(d1)/seq_len\n",
    "    \n",
    "    indices = range(l1)\n",
    "    random.shuffle(indices)\n",
    "    \n",
    "    matrix = np.zeros((l1, seq_len), dtype='int')\n",
    "    \n",
    "    i = 0\n",
    "    \n",
    "    for k in indices:\n",
    "        matrix[i, :] = [char_to_ix[c] for c in d1[k:k+seq_len]]\n",
    "        i += 1\n",
    "    \n",
    "    p = ((l1)*7)/10\n",
    "    X_train = matrix[:p,:]\n",
    "    \n",
    "    X_test = matrix[p:,:]\n",
    "    \n",
    "    return X_train, X_test, char_to_ix, ix_to_char, vocab_size\n",
    "\n",
    "#test for small data, should overfit\n",
    "data = open('data/warpeace_input.txt','r').read()\n",
    "data = data[1:500]\n",
    "\n",
    "X_train, X_test, char_to_ix, ix_to_char, vocab_size = generate_data(data)\n",
    "\n",
    "model = train_model(X_train, X_test, char_to_ix, vocab_size, 0.0, iters=5, print_every=5, batch_size=50)\n"
   ]
  },
  {
   "cell_type": "code",
   "execution_count": null,
   "metadata": {
    "collapsed": true
   },
   "outputs": [],
   "source": []
  }
 ],
 "metadata": {
  "anaconda-cloud": {},
  "kernelspec": {
   "display_name": "Python [conda env:py27]",
   "language": "python",
   "name": "conda-env-py27-py"
  },
  "language_info": {
   "codemirror_mode": {
    "name": "ipython",
    "version": 2
   },
   "file_extension": ".py",
   "mimetype": "text/x-python",
   "name": "python",
   "nbconvert_exporter": "python",
   "pygments_lexer": "ipython2",
   "version": "2.7.12"
  }
 },
 "nbformat": 4,
 "nbformat_minor": 1
}
